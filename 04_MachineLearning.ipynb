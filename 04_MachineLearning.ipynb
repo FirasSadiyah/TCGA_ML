{
 "cells": [
  {
   "cell_type": "code",
   "execution_count": 1,
   "source": [
    "# Loading libraries\n",
    "\n",
    "import numpy as np\n",
    "import pandas as pd\n",
    "import matplotlib.pyplot as plt\n",
    "from sklearn.model_selection import train_test_split\n",
    "from sklearn.model_selection import StratifiedShuffleSplit\n",
    "from sklearn.linear_model import LogisticRegressionCV\n",
    "from sklearn.feature_selection import SelectFromModel\n",
    "from sklearn.metrics import roc_auc_score, plot_roc_curve\n",
    "from tqdm import tqdm\n",
    "\n",
    "%matplotlib inline"
   ],
   "outputs": [],
   "metadata": {}
  },
  {
   "cell_type": "code",
   "execution_count": 2,
   "source": [
    "# let's import the vst-transformed count matrix (rows = samples, col = genes; last col = label)\n",
    "lusc_data = pd.read_csv(\"./datasets/LUSC_geneReadCount_VST.csv\")"
   ],
   "outputs": [],
   "metadata": {}
  },
  {
   "cell_type": "code",
   "execution_count": 3,
   "source": [
    "lusc_data.info()"
   ],
   "outputs": [
    {
     "output_type": "stream",
     "name": "stdout",
     "text": [
      "<class 'pandas.core.frame.DataFrame'>\n",
      "Index: 551 entries, TCGA-94-7943-01A-11R-2187-07 to TCGA-51-4079-01A-01R-1100-07\n",
      "Columns: 39753 entries, ENSG00000000003 to label\n",
      "dtypes: float64(39752), object(1)\n",
      "memory usage: 167.1+ MB\n"
     ]
    }
   ],
   "metadata": {}
  },
  {
   "cell_type": "code",
   "execution_count": 4,
   "source": [
    "lusc_data.describe()"
   ],
   "outputs": [
    {
     "output_type": "execute_result",
     "data": {
      "text/html": [
       "<div>\n",
       "<style scoped>\n",
       "    .dataframe tbody tr th:only-of-type {\n",
       "        vertical-align: middle;\n",
       "    }\n",
       "\n",
       "    .dataframe tbody tr th {\n",
       "        vertical-align: top;\n",
       "    }\n",
       "\n",
       "    .dataframe thead th {\n",
       "        text-align: right;\n",
       "    }\n",
       "</style>\n",
       "<table border=\"1\" class=\"dataframe\">\n",
       "  <thead>\n",
       "    <tr style=\"text-align: right;\">\n",
       "      <th></th>\n",
       "      <th>ENSG00000000003</th>\n",
       "      <th>ENSG00000000005</th>\n",
       "      <th>ENSG00000000419</th>\n",
       "      <th>ENSG00000000457</th>\n",
       "      <th>ENSG00000000460</th>\n",
       "      <th>ENSG00000000938</th>\n",
       "      <th>ENSG00000000971</th>\n",
       "      <th>ENSG00000001036</th>\n",
       "      <th>ENSG00000001084</th>\n",
       "      <th>ENSG00000001167</th>\n",
       "      <th>...</th>\n",
       "      <th>ENSG00000281849</th>\n",
       "      <th>ENSG00000281852</th>\n",
       "      <th>ENSG00000281880</th>\n",
       "      <th>ENSG00000281883</th>\n",
       "      <th>ENSG00000281896</th>\n",
       "      <th>ENSG00000281903</th>\n",
       "      <th>ENSG00000281904</th>\n",
       "      <th>ENSG00000281909</th>\n",
       "      <th>ENSG00000281912</th>\n",
       "      <th>ENSG00000281920</th>\n",
       "    </tr>\n",
       "  </thead>\n",
       "  <tbody>\n",
       "    <tr>\n",
       "      <th>count</th>\n",
       "      <td>551.000000</td>\n",
       "      <td>551.000000</td>\n",
       "      <td>551.000000</td>\n",
       "      <td>551.000000</td>\n",
       "      <td>551.000000</td>\n",
       "      <td>551.000000</td>\n",
       "      <td>551.000000</td>\n",
       "      <td>551.000000</td>\n",
       "      <td>551.000000</td>\n",
       "      <td>551.000000</td>\n",
       "      <td>...</td>\n",
       "      <td>551.000000</td>\n",
       "      <td>551.000000</td>\n",
       "      <td>551.000000</td>\n",
       "      <td>551.000000</td>\n",
       "      <td>551.000000</td>\n",
       "      <td>551.000000</td>\n",
       "      <td>551.000000</td>\n",
       "      <td>551.000000</td>\n",
       "      <td>551.000000</td>\n",
       "      <td>551.000000</td>\n",
       "    </tr>\n",
       "    <tr>\n",
       "      <th>mean</th>\n",
       "      <td>11.506768</td>\n",
       "      <td>3.210376</td>\n",
       "      <td>11.134674</td>\n",
       "      <td>9.733453</td>\n",
       "      <td>9.366600</td>\n",
       "      <td>9.736418</td>\n",
       "      <td>11.722034</td>\n",
       "      <td>11.641264</td>\n",
       "      <td>12.855367</td>\n",
       "      <td>11.043012</td>\n",
       "      <td>...</td>\n",
       "      <td>4.041995</td>\n",
       "      <td>4.042448</td>\n",
       "      <td>3.120010</td>\n",
       "      <td>3.606434</td>\n",
       "      <td>5.596421</td>\n",
       "      <td>4.555536</td>\n",
       "      <td>2.958657</td>\n",
       "      <td>3.082710</td>\n",
       "      <td>6.137523</td>\n",
       "      <td>4.073239</td>\n",
       "    </tr>\n",
       "    <tr>\n",
       "      <th>std</th>\n",
       "      <td>0.787590</td>\n",
       "      <td>0.489220</td>\n",
       "      <td>0.571272</td>\n",
       "      <td>0.434617</td>\n",
       "      <td>0.852139</td>\n",
       "      <td>1.322106</td>\n",
       "      <td>1.258561</td>\n",
       "      <td>0.614512</td>\n",
       "      <td>1.675005</td>\n",
       "      <td>0.487124</td>\n",
       "      <td>...</td>\n",
       "      <td>0.453254</td>\n",
       "      <td>0.880900</td>\n",
       "      <td>0.491202</td>\n",
       "      <td>0.442423</td>\n",
       "      <td>0.718426</td>\n",
       "      <td>0.651652</td>\n",
       "      <td>0.251155</td>\n",
       "      <td>0.318855</td>\n",
       "      <td>0.801420</td>\n",
       "      <td>0.684128</td>\n",
       "    </tr>\n",
       "    <tr>\n",
       "      <th>min</th>\n",
       "      <td>7.633507</td>\n",
       "      <td>2.867519</td>\n",
       "      <td>9.681449</td>\n",
       "      <td>8.687156</td>\n",
       "      <td>6.778143</td>\n",
       "      <td>6.532816</td>\n",
       "      <td>7.149722</td>\n",
       "      <td>9.207351</td>\n",
       "      <td>7.908137</td>\n",
       "      <td>9.835914</td>\n",
       "      <td>...</td>\n",
       "      <td>2.867519</td>\n",
       "      <td>2.867519</td>\n",
       "      <td>2.867519</td>\n",
       "      <td>2.867519</td>\n",
       "      <td>2.867519</td>\n",
       "      <td>2.867519</td>\n",
       "      <td>2.867519</td>\n",
       "      <td>2.867519</td>\n",
       "      <td>4.286747</td>\n",
       "      <td>2.867519</td>\n",
       "    </tr>\n",
       "    <tr>\n",
       "      <th>25%</th>\n",
       "      <td>11.028481</td>\n",
       "      <td>2.867519</td>\n",
       "      <td>10.740382</td>\n",
       "      <td>9.414906</td>\n",
       "      <td>8.960434</td>\n",
       "      <td>8.812821</td>\n",
       "      <td>10.870713</td>\n",
       "      <td>11.260034</td>\n",
       "      <td>11.560327</td>\n",
       "      <td>10.676899</td>\n",
       "      <td>...</td>\n",
       "      <td>3.767203</td>\n",
       "      <td>3.494788</td>\n",
       "      <td>2.867519</td>\n",
       "      <td>3.377046</td>\n",
       "      <td>5.174235</td>\n",
       "      <td>4.145110</td>\n",
       "      <td>2.867519</td>\n",
       "      <td>2.867519</td>\n",
       "      <td>5.601021</td>\n",
       "      <td>3.640888</td>\n",
       "    </tr>\n",
       "    <tr>\n",
       "      <th>50%</th>\n",
       "      <td>11.528563</td>\n",
       "      <td>2.867519</td>\n",
       "      <td>11.121858</td>\n",
       "      <td>9.711340</td>\n",
       "      <td>9.450394</td>\n",
       "      <td>9.633702</td>\n",
       "      <td>11.892007</td>\n",
       "      <td>11.657195</td>\n",
       "      <td>12.795053</td>\n",
       "      <td>11.006232</td>\n",
       "      <td>...</td>\n",
       "      <td>4.053541</td>\n",
       "      <td>3.864506</td>\n",
       "      <td>2.867519</td>\n",
       "      <td>3.636971</td>\n",
       "      <td>5.694652</td>\n",
       "      <td>4.508810</td>\n",
       "      <td>2.867519</td>\n",
       "      <td>2.867519</td>\n",
       "      <td>6.058458</td>\n",
       "      <td>3.970914</td>\n",
       "    </tr>\n",
       "    <tr>\n",
       "      <th>75%</th>\n",
       "      <td>11.998324</td>\n",
       "      <td>3.480934</td>\n",
       "      <td>11.516073</td>\n",
       "      <td>9.988039</td>\n",
       "      <td>9.921684</td>\n",
       "      <td>10.525566</td>\n",
       "      <td>12.618282</td>\n",
       "      <td>12.009649</td>\n",
       "      <td>14.104870</td>\n",
       "      <td>11.355443</td>\n",
       "      <td>...</td>\n",
       "      <td>4.298340</td>\n",
       "      <td>4.426093</td>\n",
       "      <td>3.352355</td>\n",
       "      <td>3.874470</td>\n",
       "      <td>6.071015</td>\n",
       "      <td>4.917957</td>\n",
       "      <td>2.867519</td>\n",
       "      <td>3.383177</td>\n",
       "      <td>6.563879</td>\n",
       "      <td>4.382519</td>\n",
       "    </tr>\n",
       "    <tr>\n",
       "      <th>max</th>\n",
       "      <td>15.404360</td>\n",
       "      <td>7.775136</td>\n",
       "      <td>13.403787</td>\n",
       "      <td>11.144561</td>\n",
       "      <td>11.439552</td>\n",
       "      <td>13.296483</td>\n",
       "      <td>14.531509</td>\n",
       "      <td>13.998175</td>\n",
       "      <td>17.055902</td>\n",
       "      <td>12.420048</td>\n",
       "      <td>...</td>\n",
       "      <td>5.662153</td>\n",
       "      <td>7.031399</td>\n",
       "      <td>6.139507</td>\n",
       "      <td>4.837585</td>\n",
       "      <td>7.661138</td>\n",
       "      <td>8.614201</td>\n",
       "      <td>5.295860</td>\n",
       "      <td>4.613722</td>\n",
       "      <td>9.488109</td>\n",
       "      <td>7.189747</td>\n",
       "    </tr>\n",
       "  </tbody>\n",
       "</table>\n",
       "<p>8 rows × 39752 columns</p>\n",
       "</div>"
      ],
      "text/plain": [
       "       ENSG00000000003  ENSG00000000005  ENSG00000000419  ENSG00000000457  \\\n",
       "count       551.000000       551.000000       551.000000       551.000000   \n",
       "mean         11.506768         3.210376        11.134674         9.733453   \n",
       "std           0.787590         0.489220         0.571272         0.434617   \n",
       "min           7.633507         2.867519         9.681449         8.687156   \n",
       "25%          11.028481         2.867519        10.740382         9.414906   \n",
       "50%          11.528563         2.867519        11.121858         9.711340   \n",
       "75%          11.998324         3.480934        11.516073         9.988039   \n",
       "max          15.404360         7.775136        13.403787        11.144561   \n",
       "\n",
       "       ENSG00000000460  ENSG00000000938  ENSG00000000971  ENSG00000001036  \\\n",
       "count       551.000000       551.000000       551.000000       551.000000   \n",
       "mean          9.366600         9.736418        11.722034        11.641264   \n",
       "std           0.852139         1.322106         1.258561         0.614512   \n",
       "min           6.778143         6.532816         7.149722         9.207351   \n",
       "25%           8.960434         8.812821        10.870713        11.260034   \n",
       "50%           9.450394         9.633702        11.892007        11.657195   \n",
       "75%           9.921684        10.525566        12.618282        12.009649   \n",
       "max          11.439552        13.296483        14.531509        13.998175   \n",
       "\n",
       "       ENSG00000001084  ENSG00000001167  ...  ENSG00000281849  \\\n",
       "count       551.000000       551.000000  ...       551.000000   \n",
       "mean         12.855367        11.043012  ...         4.041995   \n",
       "std           1.675005         0.487124  ...         0.453254   \n",
       "min           7.908137         9.835914  ...         2.867519   \n",
       "25%          11.560327        10.676899  ...         3.767203   \n",
       "50%          12.795053        11.006232  ...         4.053541   \n",
       "75%          14.104870        11.355443  ...         4.298340   \n",
       "max          17.055902        12.420048  ...         5.662153   \n",
       "\n",
       "       ENSG00000281852  ENSG00000281880  ENSG00000281883  ENSG00000281896  \\\n",
       "count       551.000000       551.000000       551.000000       551.000000   \n",
       "mean          4.042448         3.120010         3.606434         5.596421   \n",
       "std           0.880900         0.491202         0.442423         0.718426   \n",
       "min           2.867519         2.867519         2.867519         2.867519   \n",
       "25%           3.494788         2.867519         3.377046         5.174235   \n",
       "50%           3.864506         2.867519         3.636971         5.694652   \n",
       "75%           4.426093         3.352355         3.874470         6.071015   \n",
       "max           7.031399         6.139507         4.837585         7.661138   \n",
       "\n",
       "       ENSG00000281903  ENSG00000281904  ENSG00000281909  ENSG00000281912  \\\n",
       "count       551.000000       551.000000       551.000000       551.000000   \n",
       "mean          4.555536         2.958657         3.082710         6.137523   \n",
       "std           0.651652         0.251155         0.318855         0.801420   \n",
       "min           2.867519         2.867519         2.867519         4.286747   \n",
       "25%           4.145110         2.867519         2.867519         5.601021   \n",
       "50%           4.508810         2.867519         2.867519         6.058458   \n",
       "75%           4.917957         2.867519         3.383177         6.563879   \n",
       "max           8.614201         5.295860         4.613722         9.488109   \n",
       "\n",
       "       ENSG00000281920  \n",
       "count       551.000000  \n",
       "mean          4.073239  \n",
       "std           0.684128  \n",
       "min           2.867519  \n",
       "25%           3.640888  \n",
       "50%           3.970914  \n",
       "75%           4.382519  \n",
       "max           7.189747  \n",
       "\n",
       "[8 rows x 39752 columns]"
      ]
     },
     "metadata": {},
     "execution_count": 4
    }
   ],
   "metadata": {}
  },
  {
   "cell_type": "code",
   "execution_count": 7,
   "source": [
    "lusc_data.head(n = 2)"
   ],
   "outputs": [
    {
     "output_type": "execute_result",
     "data": {
      "text/html": [
       "<div>\n",
       "<style scoped>\n",
       "    .dataframe tbody tr th:only-of-type {\n",
       "        vertical-align: middle;\n",
       "    }\n",
       "\n",
       "    .dataframe tbody tr th {\n",
       "        vertical-align: top;\n",
       "    }\n",
       "\n",
       "    .dataframe thead th {\n",
       "        text-align: right;\n",
       "    }\n",
       "</style>\n",
       "<table border=\"1\" class=\"dataframe\">\n",
       "  <thead>\n",
       "    <tr style=\"text-align: right;\">\n",
       "      <th></th>\n",
       "      <th>ENSG00000000003</th>\n",
       "      <th>ENSG00000000005</th>\n",
       "      <th>ENSG00000000419</th>\n",
       "      <th>ENSG00000000457</th>\n",
       "      <th>ENSG00000000460</th>\n",
       "      <th>ENSG00000000938</th>\n",
       "      <th>ENSG00000000971</th>\n",
       "      <th>ENSG00000001036</th>\n",
       "      <th>ENSG00000001084</th>\n",
       "      <th>ENSG00000001167</th>\n",
       "      <th>...</th>\n",
       "      <th>ENSG00000281852</th>\n",
       "      <th>ENSG00000281880</th>\n",
       "      <th>ENSG00000281883</th>\n",
       "      <th>ENSG00000281896</th>\n",
       "      <th>ENSG00000281903</th>\n",
       "      <th>ENSG00000281904</th>\n",
       "      <th>ENSG00000281909</th>\n",
       "      <th>ENSG00000281912</th>\n",
       "      <th>ENSG00000281920</th>\n",
       "      <th>label</th>\n",
       "    </tr>\n",
       "  </thead>\n",
       "  <tbody>\n",
       "    <tr>\n",
       "      <th>TCGA-94-7943-01A-11R-2187-07</th>\n",
       "      <td>12.598295</td>\n",
       "      <td>3.347690</td>\n",
       "      <td>11.399091</td>\n",
       "      <td>9.710489</td>\n",
       "      <td>9.840727</td>\n",
       "      <td>9.545426</td>\n",
       "      <td>10.041732</td>\n",
       "      <td>12.644989</td>\n",
       "      <td>14.885584</td>\n",
       "      <td>11.249983</td>\n",
       "      <td>...</td>\n",
       "      <td>3.815171</td>\n",
       "      <td>2.867519</td>\n",
       "      <td>4.105474</td>\n",
       "      <td>6.292337</td>\n",
       "      <td>4.185603</td>\n",
       "      <td>2.867519</td>\n",
       "      <td>2.867519</td>\n",
       "      <td>5.871927</td>\n",
       "      <td>3.815171</td>\n",
       "      <td>TP</td>\n",
       "    </tr>\n",
       "    <tr>\n",
       "      <th>TCGA-68-8251-01A-11R-2296-07</th>\n",
       "      <td>11.612011</td>\n",
       "      <td>2.867519</td>\n",
       "      <td>10.177441</td>\n",
       "      <td>9.713037</td>\n",
       "      <td>10.129734</td>\n",
       "      <td>9.244418</td>\n",
       "      <td>11.915565</td>\n",
       "      <td>11.611566</td>\n",
       "      <td>11.623539</td>\n",
       "      <td>11.601289</td>\n",
       "      <td>...</td>\n",
       "      <td>3.601768</td>\n",
       "      <td>2.867519</td>\n",
       "      <td>3.762122</td>\n",
       "      <td>5.592759</td>\n",
       "      <td>4.582716</td>\n",
       "      <td>2.867519</td>\n",
       "      <td>3.601768</td>\n",
       "      <td>5.733117</td>\n",
       "      <td>3.601768</td>\n",
       "      <td>TP</td>\n",
       "    </tr>\n",
       "  </tbody>\n",
       "</table>\n",
       "<p>2 rows × 39753 columns</p>\n",
       "</div>"
      ],
      "text/plain": [
       "                              ENSG00000000003  ENSG00000000005  \\\n",
       "TCGA-94-7943-01A-11R-2187-07        12.598295         3.347690   \n",
       "TCGA-68-8251-01A-11R-2296-07        11.612011         2.867519   \n",
       "\n",
       "                              ENSG00000000419  ENSG00000000457  \\\n",
       "TCGA-94-7943-01A-11R-2187-07        11.399091         9.710489   \n",
       "TCGA-68-8251-01A-11R-2296-07        10.177441         9.713037   \n",
       "\n",
       "                              ENSG00000000460  ENSG00000000938  \\\n",
       "TCGA-94-7943-01A-11R-2187-07         9.840727         9.545426   \n",
       "TCGA-68-8251-01A-11R-2296-07        10.129734         9.244418   \n",
       "\n",
       "                              ENSG00000000971  ENSG00000001036  \\\n",
       "TCGA-94-7943-01A-11R-2187-07        10.041732        12.644989   \n",
       "TCGA-68-8251-01A-11R-2296-07        11.915565        11.611566   \n",
       "\n",
       "                              ENSG00000001084  ENSG00000001167  ...  \\\n",
       "TCGA-94-7943-01A-11R-2187-07        14.885584        11.249983  ...   \n",
       "TCGA-68-8251-01A-11R-2296-07        11.623539        11.601289  ...   \n",
       "\n",
       "                              ENSG00000281852  ENSG00000281880  \\\n",
       "TCGA-94-7943-01A-11R-2187-07         3.815171         2.867519   \n",
       "TCGA-68-8251-01A-11R-2296-07         3.601768         2.867519   \n",
       "\n",
       "                              ENSG00000281883  ENSG00000281896  \\\n",
       "TCGA-94-7943-01A-11R-2187-07         4.105474         6.292337   \n",
       "TCGA-68-8251-01A-11R-2296-07         3.762122         5.592759   \n",
       "\n",
       "                              ENSG00000281903  ENSG00000281904  \\\n",
       "TCGA-94-7943-01A-11R-2187-07         4.185603         2.867519   \n",
       "TCGA-68-8251-01A-11R-2296-07         4.582716         2.867519   \n",
       "\n",
       "                              ENSG00000281909  ENSG00000281912  \\\n",
       "TCGA-94-7943-01A-11R-2187-07         2.867519         5.871927   \n",
       "TCGA-68-8251-01A-11R-2296-07         3.601768         5.733117   \n",
       "\n",
       "                              ENSG00000281920  label  \n",
       "TCGA-94-7943-01A-11R-2187-07         3.815171     TP  \n",
       "TCGA-68-8251-01A-11R-2296-07         3.601768     TP  \n",
       "\n",
       "[2 rows x 39753 columns]"
      ]
     },
     "metadata": {},
     "execution_count": 7
    }
   ],
   "metadata": {}
  },
  {
   "cell_type": "markdown",
   "source": [
    "# assess class balance"
   ],
   "metadata": {}
  },
  {
   "cell_type": "code",
   "execution_count": 8,
   "source": [
    "# let's encode the labels\n",
    "lusc_data = lusc_data.replace(\"NT\", 0) # NT (nromal tissue) as 0\n",
    "lusc_data = lusc_data.replace(\"TP\", 1) # TP (primary tumour) as 1"
   ],
   "outputs": [],
   "metadata": {}
  },
  {
   "cell_type": "code",
   "execution_count": 9,
   "source": [
    "# let's check the count of each label type\n",
    "print(lusc_data[\"label\"].value_counts())"
   ],
   "outputs": [
    {
     "output_type": "stream",
     "name": "stdout",
     "text": [
      "1    502\n",
      "0     49\n",
      "Name: label, dtype: int64\n"
     ]
    }
   ],
   "metadata": {}
  },
  {
   "cell_type": "code",
   "execution_count": 6,
   "source": [
    "# let's import the top 500 DGE\n",
    "dge500 = pd.read_csv(\"./datasets/dge500.csv\", header = None)"
   ],
   "outputs": [],
   "metadata": {}
  },
  {
   "cell_type": "code",
   "execution_count": 10,
   "source": [
    "# convert to a Python list\n",
    "dge500_list = dge500[0].tolist()\n",
    "# add 'label' to preserve the label column\n",
    "dge500_list.append('label')\n",
    "# select the columns of LUSC_data that are in the top 500 DGE\n",
    "lusc_data_500 = lusc_data.filter(dge500_list)\n",
    "# sanity check\n",
    "lusc_data_500.shape"
   ],
   "outputs": [
    {
     "output_type": "execute_result",
     "data": {
      "text/plain": [
       "(551, 501)"
      ]
     },
     "metadata": {},
     "execution_count": 10
    }
   ],
   "metadata": {}
  },
  {
   "cell_type": "code",
   "execution_count": 11,
   "source": [
    "# let's construct the target vector\n",
    "labels = np.array(lusc_data_500['label'])\n",
    "labels.shape"
   ],
   "outputs": [
    {
     "output_type": "execute_result",
     "data": {
      "text/plain": [
       "(551,)"
      ]
     },
     "metadata": {},
     "execution_count": 11
    }
   ],
   "metadata": {}
  },
  {
   "cell_type": "code",
   "execution_count": 12,
   "source": [
    "# let's construct the feature matrix (by dropping the label column)\n",
    "features = lusc_data_500.drop('label', axis = 1)\n",
    "features.shape"
   ],
   "outputs": [
    {
     "output_type": "execute_result",
     "data": {
      "text/plain": [
       "(551, 500)"
      ]
     },
     "metadata": {},
     "execution_count": 12
    }
   ],
   "metadata": {}
  },
  {
   "cell_type": "code",
   "execution_count": 13,
   "source": [
    "features.isnull().sum()"
   ],
   "outputs": [
    {
     "output_type": "execute_result",
     "data": {
      "text/plain": [
       "ENSG00000228295    0\n",
       "ENSG00000214107    0\n",
       "ENSG00000224960    0\n",
       "ENSG00000197172    0\n",
       "ENSG00000221867    0\n",
       "                  ..\n",
       "ENSG00000182583    0\n",
       "ENSG00000243766    0\n",
       "ENSG00000259240    0\n",
       "ENSG00000277693    0\n",
       "ENSG00000261780    0\n",
       "Length: 500, dtype: int64"
      ]
     },
     "metadata": {},
     "execution_count": 13
    }
   ],
   "metadata": {}
  },
  {
   "cell_type": "code",
   "execution_count": 14,
   "source": [
    "# let's split the dataset into training and testing sets\n",
    "X_train, X_test, y_train, y_test = train_test_split(features, \n",
    "                                                    labels, \n",
    "                                                    test_size = .2, \n",
    "                                                    random_state = 2)"
   ],
   "outputs": [],
   "metadata": {}
  },
  {
   "cell_type": "code",
   "execution_count": 15,
   "source": [
    "# let's check the shape of each set\n",
    "(X_train.shape,\n",
    " y_train.shape,\n",
    " X_test.shape,\n",
    " y_test.shape)"
   ],
   "outputs": [
    {
     "output_type": "execute_result",
     "data": {
      "text/plain": [
       "((440, 500), (440,), (111, 500), (111,))"
      ]
     },
     "metadata": {},
     "execution_count": 15
    }
   ],
   "metadata": {}
  },
  {
   "cell_type": "code",
   "execution_count": 16,
   "source": [
    "# let's define a function to split the data into train/test sets using stratified Sampling (vs random sampling)\n",
    "train_val_sss = StratifiedShuffleSplit(n_splits = 10, test_size = 0.2, random_state = 1)"
   ],
   "outputs": [],
   "metadata": {}
  },
  {
   "cell_type": "code",
   "execution_count": 18,
   "source": [
    "gene_list = []\n",
    "val_auc_list = []\n",
    "opt_c_list = []\n",
    "opt_l1_ratios_list = []\n",
    "max_auc_list = []\n",
    "tpr_list = []\n",
    "auc_list = []\n",
    "mean_fpr = np.linspace(0, 1, 100)\n",
    "idx = 1\n",
    "fig, ax = plt.subplots() # using the variable ax for single a Axes\n",
    "\n",
    "# let's use nested cross validation to model hyperparameter optimisation and model selection (no overfitting!)\n",
    "for train_idx, val_idx in tqdm(train_val_sss.split(X_train, y_train)):\n",
    "    train_data, val_data = X_train.iloc[train_idx], X_train.iloc[val_idx]\n",
    "    train_target, val_target = y_train[train_idx], y_train[val_idx]\n",
    "    \n",
    "    # build a classifer (clf) using a logistic regression model with cross validation\n",
    "    clf = LogisticRegressionCV(cv=5, scoring = \"roc_auc\", penalty=\"elasticnet\", \n",
    "                               fit_intercept=True, solver=\"saga\", Cs=10, \n",
    "                               n_jobs=3, max_iter=20000, random_state = 2,\n",
    "                               class_weight='balanced',\n",
    "                               l1_ratios = [0, 0.1, 0.25, 0.5, 0.75, 0.9, 1])\n",
    "\n",
    "    # pass the training set to the `.fit` method for fitting (learning)\n",
    "    clf.fit(train_data, train_target)\n",
    "    \n",
    "    # let's capture the top k feature based on the estimator model metrics (vs p-value)\n",
    "    selector = SelectFromModel(clf, prefit = True, threshold = None)\n",
    "    \n",
    "    # let's identify the selected features `selector.get_support()` returns boolean\n",
    "    # and use it to subset the training data\n",
    "    train_data_genes = train_data.loc[:, selector.get_support()]\n",
    "    \n",
    "    # let's create a list of selected features, i.e. genes\n",
    "    [gene_list.append(x) for x in train_data_genes.columns.values]\n",
    "    #gene_list = [x for x in train_data_genes.columns.values]\n",
    "    \n",
    "    # let's store the list of coefficients `.coef_` in an array\n",
    "    coefsArray =+ clf.coef_\n",
    "    \n",
    "    # let's get the probability of each outcome class of the validation data\n",
    "    y_pred_prob = clf.predict_proba(val_data)[:,1]\n",
    "\n",
    "    # let's compute ROC AUC from prediction scores\n",
    "    val_auc_list.append(roc_auc_score(val_target, y_pred_prob))\n",
    "\n",
    "    # let's store the list of optimal hyperparameters chosen by CV\n",
    "    opt_c_list.append(clf.C_)\n",
    "    # let's store the list of optimal L1/L2 ratio penalisation chosen by CV\n",
    "    opt_l1_ratios_list.append(clf.l1_ratio_)\n",
    "    # let's get the max score for all the folds\n",
    "    max_auc_list.append(clf.scores_[1].mean(axis=0).max())\n",
    "\n",
    "    # let's plot the ROC curve\n",
    "    roc_plots = plot_roc_curve(clf, val_data, val_target,\n",
    "                               name='ROC fold {}'.format(idx), alpha=0.5, lw=1, ax=ax)\n",
    "\n",
    "    # let's do interpolation, of fpr (false positive rate) and tpr (ture positive rate)\n",
    "    interp_tpr = np.interp(mean_fpr, roc_plots.fpr, roc_plots.tpr)\n",
    "    interp_tpr[0] = 0.0\n",
    "    tpr_list.append(interp_tpr)\n",
    "    auc_list.append(roc_plots.roc_auc)\n",
    "    idx = idx + 1\n"
   ],
   "outputs": [
    {
     "output_type": "stream",
     "name": "stderr",
     "text": [
      "10it [25:21, 152.19s/it]\n"
     ]
    },
    {
     "output_type": "display_data",
     "data": {
      "image/png": "[encoded data removed]",
      "text/plain": [
       "<Figure size 432x288 with 1 Axes>"
      ]
     },
     "metadata": {
      "needs_background": "light"
     }
    }
   ],
   "metadata": {}
  }
 ],
 "metadata": {
  "orig_nbformat": 4,
  "language_info": {
   "name": "python",
   "version": "3.9.7",
   "mimetype": "text/x-python",
   "codemirror_mode": {
    "name": "ipython",
    "version": 3
   },
   "pygments_lexer": "ipython3",
   "nbconvert_exporter": "python",
   "file_extension": ".py"
  },
  "kernelspec": {
   "name": "python3",
   "display_name": "Python 3.9.7 64-bit ('tcga-ml-6dvc0Sjm-py3.9': poetry)"
  },
  "interpreter": {
   "hash": "b006dfe7e242d9f22e5d2f7e64b2986f58be9f643cc164830e8524e6df06dc18"
  }
 },
 "nbformat": 4,
 "nbformat_minor": 2
}